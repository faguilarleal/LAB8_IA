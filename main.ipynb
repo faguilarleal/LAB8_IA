{
 "cells": [
  {
   "cell_type": "markdown",
   "metadata": {},
   "source": [
    "# Laboratorio 8 \n",
    "\n",
    "Francis Aguilar #22243  \n",
    "Angela García #22869  \n",
    "Gerardo Pineda #22808  \n",
    "\n",
    "Enlace del repositorio: https://github.com/faguilarleal/LAB8_IA"
   ]
  },
  {
   "cell_type": "markdown",
   "metadata": {},
   "source": [
    "## Task 1. Preguntas de Teoría\n"
   ]
  },
  {
   "cell_type": "markdown",
   "metadata": {},
   "source": [
    "Responda las siguientes preguntas de forma clara y concisa, pueden subir un PDF o bien dentro del mismo Jupyter Notebook.   \n",
    "\n",
    "**1. Investigar el algoritmo AC-3 y su relación con el algoritmo de backtracking search**\n",
    "\n",
    "El algoritmo AC-3 (Arc Consistency 3) es un procedimiento utilizado en problemas de satisfacción de restricciones (CSP, por sus siglas en inglés). Su propósito es reducir el dominio de las variables al eliminar valores inconsistentes antes de aplicar una búsqueda más intensiva.\n",
    "\n",
    "Funcionamiento del AC-3\n",
    "Se basa en la propagación de restricciones a través de arcos (pares de variables relacionadas por una restricción).\n",
    "\n",
    "Si se encuentra un valor en el dominio de una variable que no tiene soporte en el dominio de la variable relacionada, dicho valor se elimina.\n",
    "\n",
    "Este proceso se repite iterativamente hasta que no haya más valores para eliminar o se detecte un dominio vacío (lo que indica que no hay solución).\n",
    "\n",
    "Relación con el Backtracking Search\n",
    "AC-3 como preprocesamiento: Antes de aplicar búsqueda con backtracking, AC-3 puede reducir el tamaño de los dominios, lo que disminuye el espacio de búsqueda y hace que el algoritmo sea más eficiente.\n",
    "\n",
    "Evita fallas tempranas: Backtracking puro a menudo encuentra contradicciones tarde en la búsqueda; AC-3 ayuda a identificar inconsistencias desde el principio.\n",
    "\n",
    "Complementariedad: AC-3 no encuentra soluciones por sí solo, pero mejora la eficiencia del backtracking eliminando combinaciones imposibles.\n",
    "\n",
    "\n",
    "**2. Defina en sus propias palabras el término “Arc Consistency”**\n",
    "\n",
    "La consistencia de arcos (Arc Consistency) en un problema de satisfacción de restricciones significa que, para cada par de variables conectadas por una restricción, cada valor en el dominio de una variable tiene al menos un valor compatible en el dominio de la otra variable.\n",
    "\n",
    "En otras palabras, si una variable toma un valor, siempre habrá una opción válida para la otra variable que satisfaga la restricción entre ambas. Si esto no se cumple, los valores inconsistentes deben eliminarse para lograr la consistencia."
   ]
  },
  {
   "cell_type": "markdown",
   "metadata": {},
   "source": [
    "# Task 2. CSP con Backtracking, Beam y Local Search"
   ]
  },
  {
   "cell_type": "markdown",
   "metadata": {},
   "source": [
    "En este ejercicio, implementará tres algoritmos diferentes de satisfacción de restricciones para resolver un problema\n",
    "de programación de exámenes para cuatro estudiantes que toman siete exámenes diferentes.   \n",
    "El problema implica calendarizar los exámenes para los estudiantes respetando diversas limitaciones y preferencias.\n",
    "Restricciones:  \n",
    "\n",
    "● Todos los exámenes deberán realizarse en días diferentes, concretamente lunes, martes y miércoles.  \n",
    "● Ningún estudiante deberá tener más de un examen por día.  \n",
    "● Los estudiantes que toman el mismo curso no pueden tener exámenes programados para el mismo día.    \n",
    "\n",
    "Para este ejercicio puede utilizar librerías, pero se sugiere intentar hacer los algoritmos por ustedes mismos. Para\n",
    "programar su solución pueden considerar (pero esto no significa que sea una guía definitiva) lo siguiente:\n",
    "1. Definir las variables:  \n",
    "a. Definir variables que representen exámenes (cursos).  \n",
    "b. Defina el dominio para cada variable, especificando los días posibles (lunes, martes, miércoles) para\n",
    "cada examen.  \n",
    "2. Definir las restricciones:  \n",
    "a. Defina restricciones para garantizar que todos los exámenes se realicen en días diferentes, que\n",
    "ningún estudiante tenga más de un examen por día y que los estudiantes que toman el mismo curso\n",
    "no tengan exámenes el mismo día.  \n",
    "3. Implemente el algoritmo de backtracking search:  \n",
    "a. Implemente el algoritmo de backtracking search para encontrar una solución.  \n",
    "b. Utilice el retroceso para explorar el espacio de búsqueda y encontrar una asignación válida de\n",
    "variables.  \n",
    "4. Implemente el algoritmo de beam search:  \n",
    "a. Implemente el algoritmo de beam search para encontrar una solución.  \n",
    "b. Utilice una heurística para seleccionar “caminos” prometedores y explorar el espacio de búsqueda\n",
    "de manera eficiente.  \n",
    "5. Implemente el algoritmo de local search:  \n",
    "a. Implemente el algoritmo de local search para encontrar una solución.  \n",
    "b. Utilice una heurística para mejorar iterativamente la solución actual explorando soluciones vecinas.    \n",
    "\n",
    "De cada uno de los algoritmos implementados, tome el tiempo que le toma encontrar una solución, y compare no\n",
    "solo el tiempo, sino también la solución encontrada de cada uno. Escriba sus conclusiones como parte de una celda\n",
    "“markdown” en su Jupyter Notebook  "
   ]
  },
  {
   "cell_type": "markdown",
   "metadata": {},
   "source": [
    "# Librerias"
   ]
  },
  {
   "cell_type": "code",
   "execution_count": 52,
   "metadata": {},
   "outputs": [],
   "source": [
    "import random\n",
    "import time\n",
    "from typing import Dict, List, Optional\n",
    "random.seed(49841517911851)"
   ]
  },
  {
   "cell_type": "markdown",
   "metadata": {},
   "source": [
    "# Global Variables"
   ]
  },
  {
   "cell_type": "code",
   "execution_count": 324,
   "metadata": {},
   "outputs": [],
   "source": [
    "dias = [\"Lunes\", \"Martes\", \"Miércoles\"]\n",
    "\n",
    "cursos = [\"Matemáticas\", \"Física\", \"Química\", \"Historia\", \"Biología\", \"Literatura\", \"Geografía\"]\n",
    "\n",
    "estudiantes = {\n",
    "    \"Ana\": [\"Matemáticas\", \"Física\", \"Historia\"],\n",
    "    \"Luis\": [\"Química\", \"Matemáticas\", \"Biología\"],\n",
    "    \"Sofía\": [\"Física\", \"Biología\", \"Geografía\"],\n",
    "    \"Pedro\": [\"Historia\", \"Literatura\", \"Geografía\"],\n",
    "}"
   ]
  },
  {
   "cell_type": "markdown",
   "metadata": {},
   "source": [
    "# Backtracking"
   ]
  },
  {
   "cell_type": "code",
   "execution_count": null,
   "metadata": {},
   "outputs": [
    {
     "name": "stdout",
     "output_type": "stream",
     "text": [
      "Exámenes asignados con éxito:\n",
      "\n",
      "Biología: Miércoles\n",
      "Física: Martes\n",
      "Geografía: Lunes\n",
      "Historia: Miércoles\n",
      "Literatura: Martes\n",
      "Matemáticas: Lunes\n",
      "Química: Martes\n",
      "\n",
      "Tiempo de ejecución: 0.000000 segundos\n"
     ]
    }
   ],
   "source": [
    "import time\n",
    "from typing import Dict, List, Optional\n",
    "\n",
    "\n",
    "curso_estudiantes: Dict[str, List[str]] = {curso: [] for curso in cursos}\n",
    "for estudiante, materias in estudiantes.items():\n",
    "    for curso in materias:\n",
    "        curso_estudiantes[curso].append(estudiante)\n",
    "\n",
    "\n",
    "def es_valido(asignacion: Dict[str, str], curso: str, dia: str) -> bool:\n",
    "    estudiantes_del_curso = curso_estudiantes[curso]\n",
    "\n",
    "    for estudiante in estudiantes_del_curso:\n",
    "        cursos_estudiante = estudiantes[estudiante]\n",
    "        for otro_curso in cursos_estudiante:\n",
    "            if otro_curso != curso and otro_curso in asignacion:\n",
    "                if asignacion[otro_curso] == dia:\n",
    "                    return False\n",
    "\n",
    "    for otro_curso, otro_dia in asignacion.items():\n",
    "        if otro_dia == dia:\n",
    "            if set(curso_estudiantes[curso]).intersection(curso_estudiantes[otro_curso]):\n",
    "                continue \n",
    "    return True\n",
    "\n",
    "def backtracking(asignacion: Dict[str, str]) -> Optional[Dict[str, str]]:\n",
    "    if len(asignacion) == len(cursos):\n",
    "        if len(set(asignacion.values())) < len(dias):\n",
    "            return None\n",
    "        return asignacion\n",
    "\n",
    "    cursos_no_asignados = [c for c in cursos if c not in asignacion]\n",
    "    curso_actual = cursos_no_asignados[0]\n",
    "\n",
    "    for dia in dias:\n",
    "        if es_valido(asignacion, curso_actual, dia):\n",
    "            asignacion[curso_actual] = dia\n",
    "            resultado = backtracking(asignacion)\n",
    "            if resultado is not None:\n",
    "                return resultado\n",
    "            del asignacion[curso_actual]\n",
    "    return None\n",
    "\n",
    "\n",
    "inicio = time.time()\n",
    "solucion = backtracking({})\n",
    "fin = time.time()\n",
    "duracion = fin - inicio\n",
    "\n",
    "if solucion:\n",
    "    print(\"Exámenes asignados con éxito:\\n\")\n",
    "    for curso, dia in sorted(solucion.items()):\n",
    "        print(f\"{curso}: {dia}\")\n",
    "else:\n",
    "    print(\"No se encontró una asignación válida.\")\n",
    "\n",
    "print(f\"\\nTiempo de ejecución: {duracion:.6f} segundos\")\n"
   ]
  },
  {
   "cell_type": "markdown",
   "metadata": {},
   "source": [
    "## Local Search"
   ]
  },
  {
   "cell_type": "code",
   "execution_count": null,
   "metadata": {},
   "outputs": [
    {
     "name": "stdout",
     "output_type": "stream",
     "text": [
      "Solución encontrada: {'E1': 'Miércoles', 'E2': 'Miércoles', 'E3': 'Martes', 'E4': 'Lunes', 'E5': 'Miércoles', 'E6': 'Lunes', 'E7': 'Martes'}\n",
      "Puntuación de restricciones: 0\n",
      "Tiempo de ejecución: 0.0010011196136474609375000000000000000000 segundos\n"
     ]
    }
   ],
   "source": [
    "# Definición de variables \n",
    "exams = ['E1', 'E2', 'E3', 'E4', 'E5', 'E6', 'E7']\n",
    "days = ['Lunes', 'Martes', 'Miércoles']\n",
    "\n",
    "# Generar una asignación aleatoria de exámenes a estudiantes\n",
    "num_students = 4\n",
    "students = {f'S{i+1}': random.sample(exams, random.randint(2, 4)) for i in range(num_students)}\n",
    "\n",
    "print(students)\n",
    "\n",
    "# Generar una solución inicial aleatoria\n",
    "def generate_initial_solution():\n",
    "    return {exam: random.choice(days) for exam in exams}\n",
    "\n",
    "# Evaluar la solución basándose en restricciones\n",
    "def evaluate(solution):\n",
    "    penalty = 0\n",
    "    \n",
    "    # Restricción 1: Todos los exámenes en días diferentes\n",
    "    if len(set(solution.values())) < len(days):\n",
    "        penalty += 10\n",
    "    \n",
    "    # Restricción 2: Ningún estudiante debe tener más de un examen por día\n",
    "    for student, student_exams in students.items():\n",
    "        exam_days = [solution[exam] for exam in student_exams]\n",
    "        if len(set(exam_days)) < len(exam_days):  # Si hay repeticiones, hay penalización\n",
    "            penalty += 5\n",
    "    \n",
    "    return penalty\n",
    "\n",
    "# Generar una solución vecina cambiando el día de un examen aleatorio\n",
    "def generate_neighbor(solution):\n",
    "    neighbor = solution.copy()\n",
    "    exam_to_change = random.choice(exams)\n",
    "    new_day = random.choice(days)\n",
    "    neighbor[exam_to_change] = new_day\n",
    "    return neighbor\n",
    "\n",
    "# Búsqueda local\n",
    "def local_search(max_iterations=1000):\n",
    "    start_time = time.time()\n",
    "    current_solution = generate_initial_solution()\n",
    "    current_score = evaluate(current_solution)\n",
    "    \n",
    "    for _ in range(max_iterations):\n",
    "        neighbor = generate_neighbor(current_solution)\n",
    "        neighbor_score = evaluate(neighbor)\n",
    "        \n",
    "        if neighbor_score < current_score:  # Aceptar la mejor solución encontrada\n",
    "            current_solution = neighbor\n",
    "            current_score = neighbor_score\n",
    "            \n",
    "        if current_score == 0:  # Solución óptima encontrada\n",
    "            break\n",
    "    \n",
    "    end_time = time.time()\n",
    "    return current_solution, current_score, end_time, start_time\n",
    "\n",
    "# Ejecutar búsqueda local\n",
    "solution, score, end_time,start_time  = local_search()\n",
    "print(\"Solución encontrada:\", solution)\n",
    "print(\"Puntuación de restricciones:\", score)\n",
    "print(f\"Tiempo de ejecución: {end_time - start_time:.40f} segundos\")"
   ]
  },
  {
   "cell_type": "markdown",
   "metadata": {},
   "source": [
    "\n",
    "| Backtracking | LocalSearch | El otro |\n",
    "|-------|-------|-------|\n",
    "| 0.00108 | 0.001001 | |"
   ]
  },
  {
   "cell_type": "markdown",
   "metadata": {},
   "source": [
    "# Conclusiones\n",
    "\n",
    "## Backtracking\n",
    "\n",
    "El backtracking es un algoritmo que retorna una solucion perfecta es decir una que cumpla con todas las restricciones. El algoritmo retrocede cada vez que detecta una asignacion que viola algunas de las restricciones, todo esto con el fin de garantizar que exista una solucion valida. Es bastante inneficiente en problemas muy grandes por su busqueda y cantidad de combinaciones que tienden a ir creciendo de manera exponencial, lo que pueda provocar que nunca encuentre una solucion. Este no es un algoritmo heuristico a comparacion de la busqueda local que puede encontrar soluciones un poco mas accesibles."
   ]
  }
 ],
 "metadata": {
  "kernelspec": {
   "display_name": "Python 3",
   "language": "python",
   "name": "python3"
  },
  "language_info": {
   "codemirror_mode": {
    "name": "ipython",
    "version": 3
   },
   "file_extension": ".py",
   "mimetype": "text/x-python",
   "name": "python",
   "nbconvert_exporter": "python",
   "pygments_lexer": "ipython3",
   "version": "3.11.9"
  }
 },
 "nbformat": 4,
 "nbformat_minor": 2
}
