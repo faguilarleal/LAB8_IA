{
 "cells": [
  {
   "cell_type": "markdown",
   "metadata": {},
   "source": [
    "# Laboratorio 8 \n",
    "\n",
    "Francis Aguilar #22243  \n",
    "Angela García #22869  \n",
    "Gerardo Pineda #22808  \n",
    "\n",
    "Enlace del repositorio: https://github.com/faguilarleal/LAB8_IA"
   ]
  },
  {
   "cell_type": "markdown",
   "metadata": {},
   "source": [
    "## Task 1. Preguntas de Teoría\n"
   ]
  },
  {
   "cell_type": "markdown",
   "metadata": {},
   "source": [
    "Responda las siguientes preguntas de forma clara y concisa, pueden subir un PDF o bien dentro del mismo Jupyter Notebook.   \n",
    "\n",
    "**1. Investigar el algoritmo AC-3 y su relación con el algoritmo de backtracking search**\n",
    "\n",
    "El algoritmo AC-3 (Arc Consistency 3) es un procedimiento utilizado en problemas de satisfacción de restricciones (CSP, por sus siglas en inglés). Su propósito es reducir el dominio de las variables al eliminar valores inconsistentes antes de aplicar una búsqueda más intensiva.\n",
    "\n",
    "Funcionamiento del AC-3\n",
    "Se basa en la propagación de restricciones a través de arcos (pares de variables relacionadas por una restricción).\n",
    "\n",
    "Si se encuentra un valor en el dominio de una variable que no tiene soporte en el dominio de la variable relacionada, dicho valor se elimina.\n",
    "\n",
    "Este proceso se repite iterativamente hasta que no haya más valores para eliminar o se detecte un dominio vacío (lo que indica que no hay solución).\n",
    "\n",
    "Relación con el Backtracking Search\n",
    "AC-3 como preprocesamiento: Antes de aplicar búsqueda con backtracking, AC-3 puede reducir el tamaño de los dominios, lo que disminuye el espacio de búsqueda y hace que el algoritmo sea más eficiente.\n",
    "\n",
    "Evita fallas tempranas: Backtracking puro a menudo encuentra contradicciones tarde en la búsqueda; AC-3 ayuda a identificar inconsistencias desde el principio.\n",
    "\n",
    "Complementariedad: AC-3 no encuentra soluciones por sí solo, pero mejora la eficiencia del backtracking eliminando combinaciones imposibles.\n",
    "\n",
    "\n",
    "**2. Defina en sus propias palabras el término “Arc Consistency”**\n",
    "\n",
    "La consistencia de arcos (Arc Consistency) en un problema de satisfacción de restricciones significa que, para cada par de variables conectadas por una restricción, cada valor en el dominio de una variable tiene al menos un valor compatible en el dominio de la otra variable.\n",
    "\n",
    "En otras palabras, si una variable toma un valor, siempre habrá una opción válida para la otra variable que satisfaga la restricción entre ambas. Si esto no se cumple, los valores inconsistentes deben eliminarse para lograr la consistencia."
   ]
  }
 ],
 "metadata": {
  "language_info": {
   "name": "python"
  }
 },
 "nbformat": 4,
 "nbformat_minor": 2
}
